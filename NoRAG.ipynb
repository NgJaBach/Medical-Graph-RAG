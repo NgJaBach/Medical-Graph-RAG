{
 "cells": [
  {
   "cell_type": "markdown",
   "metadata": {},
   "source": [
    "# Components"
   ]
  },
  {
   "cell_type": "code",
   "execution_count": 28,
   "metadata": {},
   "outputs": [],
   "source": [
    "from openai import OpenAI\n",
    "import os\n",
    "\n",
    "client = OpenAI(api_key=os.getenv(\"OPENAI_API_KEY\"))\n",
    "\n",
    "sys = \"\"\"\n",
    "Read the question and the four options: A, B, C and D.\n",
    "Return a single letter \"A\", \"B\", \"C\" or \"D\" for the correct answer.\n",
    "Do not return any other text.\n",
    "\"\"\"\n",
    "\n",
    "# gpt-4.1-nano\n",
    "# gpt-4o-mini\n",
    "\n",
    "def ask_gpt(prompt: str, model=\"gpt-4o-mini\") -> str:\n",
    "    response = client.chat.completions.create(\n",
    "        model=model,\n",
    "        messages=[\n",
    "            {\n",
    "                \"role\": \"system\", \n",
    "                \"content\": sys\n",
    "            },\n",
    "            {\n",
    "                \"role\": \"user\",\n",
    "                \"content\": prompt,\n",
    "            }\n",
    "        ],\n",
    "        max_tokens=1,\n",
    "        n=1\n",
    "    )\n",
    "    return response.choices[0].message.content"
   ]
  },
  {
   "cell_type": "code",
   "execution_count": 29,
   "metadata": {},
   "outputs": [
    {
     "name": "stderr",
     "output_type": "stream",
     "text": [
      "100%|██████████| 1273/1273 [12:55<00:00,  1.64it/s]"
     ]
    },
    {
     "name": "stdout",
     "output_type": "stream",
     "text": [
      "Total: 1273\n",
      "Correct: 941\n",
      "Accuracy: 73.92%\n"
     ]
    },
    {
     "name": "stderr",
     "output_type": "stream",
     "text": [
      "\n"
     ]
    }
   ],
   "source": [
    "import pandas as pd\n",
    "from tqdm import tqdm\n",
    "\n",
    "df = pd.read_json(\"MedQA.jsonl\", lines=True)\n",
    "\n",
    "correct = 0\n",
    "for idx, row in tqdm(df.iterrows(), total=len(df)):\n",
    "    q = row['question']\n",
    "    a = row['options']\n",
    "    s = row['answer_idx']\n",
    "    # QA = f\"Q: {q}\\nA: {a['A']}\\nB: {a['B']}\\nC: {a['C']}\\nD: {a['D']}\\nAnswer: {s}\"\n",
    "    # print(QA)\n",
    "    prompt = f\"Question: {q}\\nA: {a['A']}\\nB: {a['B']}\\nC: {a['C']}\\nD: {a['D']}\\nAnswer:\"\n",
    "    while True:\n",
    "        res = ask_gpt(prompt)\n",
    "        if res in ['A', 'B', 'C', 'D']:\n",
    "            break\n",
    "    if res == s:\n",
    "        correct += 1\n",
    "\n",
    "accuracy = correct / len(df) * 100\n",
    "print(f\"Total: {len(df)}\")\n",
    "print(f\"Correct: {correct}\")\n",
    "print(f\"Accuracy: {accuracy:.2f}%\")"
   ]
  }
 ],
 "metadata": {
  "kernelspec": {
   "display_name": ".venv",
   "language": "python",
   "name": "python3"
  },
  "language_info": {
   "codemirror_mode": {
    "name": "ipython",
    "version": 3
   },
   "file_extension": ".py",
   "mimetype": "text/x-python",
   "name": "python",
   "nbconvert_exporter": "python",
   "pygments_lexer": "ipython3",
   "version": "3.12.3"
  }
 },
 "nbformat": 4,
 "nbformat_minor": 2
}
