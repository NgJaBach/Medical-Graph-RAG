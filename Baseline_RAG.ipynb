{
 "cells": [
  {
   "cell_type": "markdown",
   "metadata": {},
   "source": [
    "# Components"
   ]
  },
  {
   "cell_type": "code",
   "execution_count": 117,
   "metadata": {},
   "outputs": [],
   "source": [
    "import os\n",
    "from langchain_ollama import OllamaEmbeddings\n",
    "from langchain_community.docstore.in_memory import InMemoryDocstore\n",
    "from langchain_community.vectorstores import FAISS\n",
    "import faiss\n",
    "\n",
    "embeddings = OllamaEmbeddings(model=\"mxbai-embed-large\")\n",
    "\n",
    "d = len(embeddings.embed_query(\"hello world\"))\n",
    "index = faiss.IndexFlatL2(d)\n",
    "\n",
    "vector_store = FAISS(\n",
    "    embedding_function=embeddings,\n",
    "    index=index,\n",
    "    docstore=InMemoryDocstore(),\n",
    "    index_to_docstore_id={}\n",
    ")"
   ]
  },
  {
   "cell_type": "code",
   "execution_count": null,
   "metadata": {},
   "outputs": [],
   "source": [
    "from openai import OpenAI\n",
    "import backoff\n",
    "import openai\n",
    "\n",
    "client = OpenAI(api_key=os.getenv(\"OPENAI_API_KEY\"))\n",
    "\n",
    "sys = \"\"\"\n",
    "Please answer the question based on the provided information and context.\n",
    "Return a single letter \"A\", \"B\", \"C\" or \"D\" corresponding to the correct answer.\n",
    "Do not return any other text.\n",
    "\"\"\"\n",
    "\n",
    "@backoff.on_exception(backoff.expo, openai.RateLimitError, max_time=999, max_tries=99)\n",
    "def completions_with_backoff(**kwargs):\n",
    "    return client.chat.completions.create(**kwargs)\n",
    "\n",
    "def ask_gpt(prompt: str) -> str:\n",
    "    response = completions_with_backoff(\n",
    "        model=\"gpt-4.1-mini\",\n",
    "        messages=[\n",
    "            {\n",
    "                \"role\": \"system\", \n",
    "                \"content\": sys\n",
    "            },\n",
    "            {\n",
    "                \"role\": \"user\",\n",
    "                \"content\": prompt,\n",
    "            }\n",
    "        ],\n",
    "        max_tokens=1,\n",
    "        n=1\n",
    "    )\n",
    "    return response.choices[0].message.content"
   ]
  },
  {
   "cell_type": "code",
   "execution_count": 119,
   "metadata": {},
   "outputs": [],
   "source": [
    "from langchain_core.documents import Document\n",
    "from langchain_text_splitters import RecursiveCharacterTextSplitter\n",
    "from langgraph.graph import START, StateGraph\n",
    "from typing_extensions import List, TypedDict\n",
    "\n",
    "def mega_load(data_path, msg=\"files\"):\n",
    "    files = [file for file in os.listdir(data_path) if os.path.isfile(os.path.join(data_path, file))]\n",
    "    for i, file_name in enumerate(files):\n",
    "        print(f\"Processing {i + 1}th {msg}: {file_name}\")\n",
    "        content = \"\"\n",
    "        file_path = os.path.join(data_path, file_name)\n",
    "        with open(file_path, 'r', encoding='utf-8') as file:\n",
    "            for line in file:\n",
    "                content += line.strip() + \"\\n\"\n",
    "        text_splitter = RecursiveCharacterTextSplitter(chunk_size=2048, chunk_overlap=128)\n",
    "        all_splits = text_splitter.split_text(content)\n",
    "        _ = vector_store.add_texts(all_splits)\n",
    "\n",
    "faiss_index_path = \"/home/ngjabach/Documents/NgJaBach/Medical-Graph-RAG/faiss_index\"\n",
    "if os.path.exists(faiss_index_path):\n",
    "    vector_store = FAISS.load_local(faiss_index_path, embeddings, allow_dangerous_deserialization=True)\n",
    "else:\n",
    "    print(\"Begin vector storing...\")\n",
    "    mega_load(\"./books_1\")\n",
    "    mega_load(\"./books_2\")\n",
    "    print(\"Done vector storing!\")\n",
    "    vector_store.save_local(faiss_index_path)\n",
    "\n",
    "retriever = vector_store.as_retriever(search_type=\"similarity\", search_kwargs={\"k\": 16})"
   ]
  },
  {
   "cell_type": "code",
   "execution_count": 120,
   "metadata": {},
   "outputs": [],
   "source": [
    "prompt = \"\"\"\n",
    "---Start of Context---\n",
    "{context}\n",
    "---End of Context---\n",
    "\n",
    "{question}\n",
    "\"\"\""
   ]
  },
  {
   "cell_type": "code",
   "execution_count": 121,
   "metadata": {},
   "outputs": [],
   "source": [
    "class State(TypedDict):\n",
    "    context: List[Document]\n",
    "    answer: str\n",
    "    question: str\n",
    "\n",
    "# Define application steps\n",
    "def retrieve(state: State):\n",
    "    # print(\"Begin retriving!\")\n",
    "    docs = retriever.invoke(state[\"question\"])\n",
    "    # print(\"Done retrieving!\")\n",
    "    return {\"context\": docs}\n",
    "\n",
    "def generate(state: State):\n",
    "    # print(\"Begin generating!\")\n",
    "    docs_content = \"\\n\\n\".join(doc.page_content for doc in state[\"context\"])\n",
    "    messages = prompt.format(context = docs_content, question = state[\"question\"])\n",
    "    # print(messages)\n",
    "    response = ask_gpt(messages)\n",
    "    # print(\"Done generating!\")\n",
    "    return {\"answer\": response}\n",
    "\n",
    "# print(\"Compiling...\")\n",
    "graph_builder = StateGraph(State).add_sequence([retrieve, generate])\n",
    "graph_builder.add_edge(START, \"retrieve\")\n",
    "graph = graph_builder.compile()\n",
    "# print(\"Done compiling!\")"
   ]
  },
  {
   "cell_type": "code",
   "execution_count": 122,
   "metadata": {},
   "outputs": [
    {
     "name": "stderr",
     "output_type": "stream",
     "text": [
      "100%|██████████| 1273/1273 [46:26<00:00,  2.19s/it] "
     ]
    },
    {
     "name": "stdout",
     "output_type": "stream",
     "text": [
      "Total: 1273\n",
      "Correct: 865\n",
      "Accuracy: 67.95%\n"
     ]
    },
    {
     "name": "stderr",
     "output_type": "stream",
     "text": [
      "\n"
     ]
    }
   ],
   "source": [
    "import pandas as pd\n",
    "from tqdm import tqdm\n",
    "\n",
    "df = pd.read_json(\"MedQA.jsonl\", lines=True)\n",
    "\n",
    "correct = 0\n",
    "for idx, row in tqdm(df.iterrows(), total=len(df)):\n",
    "    q = row['question']\n",
    "    a = row['options']\n",
    "    s = row['answer_idx']\n",
    "    # QA = f\"Q: {q}\\nA: {a['A']}\\nB: {a['B']}\\nC: {a['C']}\\nD: {a['D']}\\nAnswer: {s}\"\n",
    "    # print(QA)\n",
    "    brompt = f\"Question: {q}\\nA: {a['A']}\\nB: {a['B']}\\nC: {a['C']}\\nD: {a['D']}\\nAnswer:\"\n",
    "    while True:\n",
    "        res = graph.invoke({\"question\": brompt})[\"answer\"]\n",
    "        if res in ['A', 'B', 'C', 'D']:\n",
    "            break\n",
    "    if res == s:\n",
    "        correct += 1\n",
    "\n",
    "accuracy = correct / len(df) * 100\n",
    "print(f\"Total: {len(df)}\")\n",
    "print(f\"Correct: {correct}\")\n",
    "print(f\"Accuracy: {accuracy:.2f}%\")"
   ]
  }
 ],
 "metadata": {
  "kernelspec": {
   "display_name": ".venv",
   "language": "python",
   "name": "python3"
  },
  "language_info": {
   "codemirror_mode": {
    "name": "ipython",
    "version": 3
   },
   "file_extension": ".py",
   "mimetype": "text/x-python",
   "name": "python",
   "nbconvert_exporter": "python",
   "pygments_lexer": "ipython3",
   "version": "3.12.3"
  }
 },
 "nbformat": 4,
 "nbformat_minor": 2
}
