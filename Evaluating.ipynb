{
 "cells": [
  {
   "cell_type": "markdown",
   "id": "b71632f3",
   "metadata": {},
   "source": [
    "# Prepare QA"
   ]
  },
  {
   "cell_type": "code",
   "execution_count": null,
   "id": "4f34a75c",
   "metadata": {},
   "outputs": [],
   "source": [
    "import json\n",
    "def prepare_qa(file_path: str):\n",
    "    \"\"\"\n",
    "    Prepares QA pairs from a JSONL file.\n",
    "    \"\"\"\n",
    "    with open(file_path, 'r', encoding='utf-8') as file:  # Specify UTF-8 encoding\n",
    "        data = [json.loads(line) for line in file]\n",
    "\n",
    "    qa = []\n",
    "    for item in data:\n",
    "        qa.append({'question': item['question'], 'options': item['options'], 'answer': item['answer_idx']})\n",
    "        # qa.append({'question': item['question'], 'options': {\"A\": item['opa'],\"B\": item['opb'], \"C\": item['opc'], \"D\": item['opd']}, 'answer': chr(item['cop'] + 64) })\n",
    "\n",
    "    \n",
    "    return qa"
   ]
  }
 ],
 "metadata": {
  "language_info": {
   "name": "python"
  }
 },
 "nbformat": 4,
 "nbformat_minor": 5
}
